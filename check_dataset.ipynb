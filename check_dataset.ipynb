{
 "cells": [
  {
   "cell_type": "code",
   "execution_count": 1,
   "metadata": {},
   "outputs": [
    {
     "name": "stderr",
     "output_type": "stream",
     "text": [
      "c:\\Users\\82109\\anaconda3\\envs\\my_pfns4bo\\lib\\site-packages\\tqdm\\auto.py:21: TqdmWarning: IProgress not found. Please update jupyter and ipywidgets. See https://ipywidgets.readthedocs.io/en/stable/user_install.html\n",
      "  from .autonotebook import tqdm as notebook_tqdm\n"
     ]
    }
   ],
   "source": [
    "import matplotlib.pyplot as plt\n",
    "import numpy as np\n",
    "from hpob_handler import HPOBHandler\n",
    "from methods.botorch import GaussianProcess\n",
    "from methods.random_search import RandomSearch"
   ]
  },
  {
   "cell_type": "code",
   "execution_count": 2,
   "metadata": {},
   "outputs": [],
   "source": [
    "# valid_acquisitions = [\"UCB\", \"EI\", \"PM\", \"PI\", \"qEI\"]\n",
    "valid_acquisitions = [\"UCB\"]\n",
    "seeds = [\"test0\", \"test1\", \"test2\", \"test3\", \"test4\"]\n",
    "acc_list = []\n",
    "n_trials = 20"
   ]
  },
  {
   "cell_type": "code",
   "execution_count": 2,
   "metadata": {},
   "outputs": [
    {
     "name": "stdout",
     "output_type": "stream",
     "text": [
      "Loading HPO-B handler\n",
      "Loading data...\n"
     ]
    }
   ],
   "source": [
    "hpob_hdlr = HPOBHandler(root_dir=\"hpob-data/\", mode=\"v3-test\")\n",
    "search_space_id =  hpob_hdlr.get_search_spaces()[0]\n",
    "dataset_id = hpob_hdlr.get_datasets(search_space_id)[0]"
   ]
  },
  {
   "cell_type": "code",
   "execution_count": 9,
   "metadata": {},
   "outputs": [
    {
     "name": "stdout",
     "output_type": "stream",
     "text": [
      "['4796', '5527', '5636', '5859', '5860', '5891', '5906', '5965', '5970', '5971', '6766', '6767', '6794', '7607', '7609', '5889']\n",
      "16\n"
     ]
    }
   ],
   "source": [
    "print(hpob_hdlr.get_search_spaces())\n",
    "print(len(hpob_hdlr.get_search_spaces()))"
   ]
  },
  {
   "cell_type": "code",
   "execution_count": 10,
   "metadata": {},
   "outputs": [
    {
     "name": "stdout",
     "output_type": "stream",
     "text": [
      "3549\n"
     ]
    }
   ],
   "source": [
    "print(dataset_id)"
   ]
  },
  {
   "cell_type": "code",
   "execution_count": 12,
   "metadata": {},
   "outputs": [],
   "source": [
    "X = np.array(hpob_hdlr.meta_test_data[search_space_id][dataset_id][\"X\"])\n",
    "y = np.array(hpob_hdlr.meta_test_data[search_space_id][dataset_id][\"y\"])"
   ]
  },
  {
   "cell_type": "code",
   "execution_count": 19,
   "metadata": {},
   "outputs": [
    {
     "name": "stdout",
     "output_type": "stream",
     "text": [
      "(300, 3)\n",
      "300\n",
      "(300, 1)\n"
     ]
    }
   ],
   "source": [
    "print(X.shape)\n",
    "print(len(X))\n",
    "print(y.shape)\n",
    "# print(X)\n",
    "# print(y)"
   ]
  },
  {
   "cell_type": "code",
   "execution_count": 18,
   "metadata": {},
   "outputs": [
    {
     "data": {
      "text/plain": [
       "dict_keys(['3549', '3918', '9903', '23'])"
      ]
     },
     "execution_count": 18,
     "metadata": {},
     "output_type": "execute_result"
    }
   ],
   "source": [
    "hpob_hdlr.meta_test_data[search_space_id].keys()"
   ]
  },
  {
   "cell_type": "code",
   "execution_count": 20,
   "metadata": {},
   "outputs": [
    {
     "name": "stdout",
     "output_type": "stream",
     "text": [
      "{'test0': [220, 281, 83, 149, 269], 'test1': [244, 148, 221, 44, 249], 'test2': [24, 180, 12, 117, 31], 'test3': [214, 72, 267, 286, 8], 'test4': [123, 74, 228, 110, 45]}\n"
     ]
    }
   ],
   "source": [
    "print(hpob_hdlr.bo_initializations[search_space_id][dataset_id])"
   ]
  },
  {
   "cell_type": "code",
   "execution_count": null,
   "metadata": {},
   "outputs": [],
   "source": [
    "for acq_name in valid_acquisitions:\n",
    "    acc_per_method = []\n",
    "    for seed in seeds:\n",
    "        print(\"Using \", acq_name, \" as acquisition function...\")\n",
    "\n",
    "        #define the HPO method\n",
    "        method = GaussianProcess(acq_name=acq_name)\n",
    "\n",
    "        #evaluate the HPO method\n",
    "        acc = hpob_hdlr.evaluate(method, search_space_id = search_space_id, \n",
    "                                                dataset_id = dataset_id,\n",
    "                                                seed = seed,\n",
    "                                                n_trials = n_trials)\n",
    "\n",
    "        acc_per_method.append(acc)\n",
    "\n",
    "    plt.plot(np.array(acc_per_method).mean(axis=0))\n",
    "plt.legend(valid_acquisitions)\n",
    "plt.show()"
   ]
  },
  {
   "cell_type": "markdown",
   "metadata": {},
   "source": [
    "### train data"
   ]
  },
  {
   "cell_type": "code",
   "execution_count": 2,
   "metadata": {},
   "outputs": [
    {
     "name": "stdout",
     "output_type": "stream",
     "text": [
      "Loading HPO-B handler\n",
      "Loading data...\n"
     ]
    }
   ],
   "source": [
    "hpob_hdlr = HPOBHandler(root_dir=\"hpob-data/\", mode=\"v3-train-augmented\")"
   ]
  },
  {
   "cell_type": "code",
   "execution_count": 11,
   "metadata": {},
   "outputs": [
    {
     "name": "stdout",
     "output_type": "stream",
     "text": [
      "176\n"
     ]
    }
   ],
   "source": [
    "print(len(hpob_hdlr.get_meta_train_search_spaces()))"
   ]
  },
  {
   "cell_type": "code",
   "execution_count": null,
   "metadata": {},
   "outputs": [],
   "source": [
    "cnt = 0\n",
    "for search_space_id in hpob_hdlr.get_meta_train_search_spaces():\n",
    "    for dataset_id in hpob_hdlr.get_meta_train_datasets(search_space_id):\n",
    "        print(f'search space id = {search_space_id}, dataset id = {dataset_id}')\n",
    "        X = np.array(hpob_hdlr.meta_train_data[search_space_id][dataset_id][\"X\"])\n",
    "        y = np.array(hpob_hdlr.meta_train_data[search_space_id][dataset_id][\"y\"])\n",
    "\n",
    "        print(f'X shape = {X.shape}, y shape = {y.shape}')\n",
    "        cnt += 1\n",
    "print()\n",
    "print(f'Total number of combinations = {cnt}')"
   ]
  }
 ],
 "metadata": {
  "kernelspec": {
   "display_name": "my_pfns4bo",
   "language": "python",
   "name": "python3"
  },
  "language_info": {
   "codemirror_mode": {
    "name": "ipython",
    "version": 3
   },
   "file_extension": ".py",
   "mimetype": "text/x-python",
   "name": "python",
   "nbconvert_exporter": "python",
   "pygments_lexer": "ipython3",
   "version": "3.9.18"
  }
 },
 "nbformat": 4,
 "nbformat_minor": 2
}
